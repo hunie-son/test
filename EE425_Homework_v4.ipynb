{
  "cells": [
    {
      "cell_type": "markdown",
      "metadata": {
        "id": "view-in-github",
        "colab_type": "text"
      },
      "source": [
        "<a href=\"https://colab.research.google.com/github/hunie-son/hunie-son.github.io/blob/main/EE425_Homework_v4.ipynb\" target=\"_parent\"><img src=\"https://colab.research.google.com/assets/colab-badge.svg\" alt=\"Open In Colab\"/></a>"
      ]
    },
    {
      "cell_type": "code",
      "execution_count": null,
      "id": "b504d620",
      "metadata": {
        "id": "b504d620"
      },
      "outputs": [],
      "source": [
        "import numpy as np\n",
        "import matplotlib.pyplot as plt\n",
        "\n",
        "from sklearn.metrics import f1_score\n",
        "from sklearn.model_selection import train_test_split\n",
        "from sklearn.discriminant_analysis import LinearDiscriminantAnalysis\n",
        "from scipy.stats import multivariate_normal\n",
        "\n",
        "import math\n",
        "from scipy import stats\n",
        "\n",
        "import pandas as pd\n",
        "import math \n",
        "import time"
      ]
    },
    {
      "cell_type": "markdown",
      "id": "868d96cb",
      "metadata": {
        "id": "868d96cb"
      },
      "source": [
        "## Homework 3 Q1 "
      ]
    },
    {
      "cell_type": "markdown",
      "id": "d8982e54",
      "metadata": {
        "id": "d8982e54"
      },
      "source": [
        "### Data Generation (Ref.Optimization_Intro.ipynb)"
      ]
    },
    {
      "cell_type": "code",
      "execution_count": null,
      "id": "84052967",
      "metadata": {
        "id": "84052967"
      },
      "outputs": [],
      "source": [
        "#Data Initialized\n",
        "\n",
        "\"\"\"\n",
        "n= number of data\n",
        "d= number of features\n",
        "phi = \"fraction of samples that are from class 0\"\n",
        "\n",
        "\n",
        "X: matrix of feature (n x d)\n",
        "y: class labels (n x 1) where each entry is either 0 or 1\n",
        "\"\"\"\n",
        "\n",
        "n = 20\n",
        "\n",
        "n_train = n\n",
        "n_test = (int)(n/5)\n",
        "\n",
        "\n",
        "d = 100\n",
        "mu_0 = 2*np.ones((d,1))\n",
        "mu_1 = -2*np.ones((d,1))\n",
        "sigma = 1 *np.eye(d)\n",
        "\n",
        "phi =0.5\n",
        "#var_co = np.diag(np.arange(d)+1)\n",
        "\n",
        "#print(mu_x1.shape)\n",
        "#print(var_co.shape)"
      ]
    },
    {
      "cell_type": "code",
      "execution_count": null,
      "id": "87af4689",
      "metadata": {
        "id": "87af4689"
      },
      "outputs": [],
      "source": [
        "def generate_data_classification(n, d, mu_0, mu_1, sigma, phi):\n",
        "   \n",
        "    bern_idx = np.random.rand(n, 1) #samples from unifrom random distribution (it is between 0,1)\n",
        "    y = 1 * (bern_idx >= phi) #this is a vector of size m, each entry is 0,1\n",
        "    \n",
        "    #this is a vector of size m, each entry is 0,1\n",
        "    '''\n",
        "    for ii in range(n):\n",
        "        if(y[ii] == 0):\n",
        "            X = np.random.multivariate_normal(mu_0, sigma, n)\n",
        "        else:\n",
        "            X = np.random.multivariate_normal(mu_1, sigma, n)\n",
        "    '''\n",
        "    X = np.zeros((n, d))\n",
        "    #print(X.shape)\n",
        "    for ii in range(n):\n",
        "        if (y[ii] == 0):\n",
        "            xtmp = sigma @ np.random.randn(d, 1) + mu_0\n",
        "        else:\n",
        "            xtmp = sigma @ np.random.randn(d,1) + mu_1\n",
        "        \n",
        "        #print(X[ii:ii + 1, :].shape)\n",
        "        #print(xtmp.T.shape)\n",
        "        X[ii:ii + 1, :] = xtmp.T\n",
        "\n",
        "    return X, y #_train, X_test #, noise, noise_test"
      ]
    },
    {
      "cell_type": "code",
      "execution_count": null,
      "id": "4c8388f4",
      "metadata": {
        "id": "4c8388f4",
        "outputId": "f18118cf-fefd-44f6-fe56-1efb0befa3ef"
      },
      "outputs": [
        {
          "name": "stdout",
          "output_type": "stream",
          "text": [
            "(20, 100)\n"
          ]
        }
      ],
      "source": [
        "X_train,y_train = generate_data_classification(n_train, d, mu_0, mu_1, sigma, phi)\n",
        "X_test, y_test = generate_data_classification(n_test, d, mu_0, mu_1, sigma, phi)\n",
        "\n",
        "print(X_train.shape)\n"
      ]
    },
    {
      "cell_type": "markdown",
      "id": "d29ca4a3",
      "metadata": {
        "id": "d29ca4a3"
      },
      "source": [
        "### Plot the data"
      ]
    },
    {
      "cell_type": "code",
      "execution_count": null,
      "id": "ead07dc7",
      "metadata": {
        "id": "ead07dc7"
      },
      "outputs": [],
      "source": [
        "def plot_data(X, y, n):\n",
        "    X_zero = np.array([np.array(X[ii,:]) for ii in range(n) if y[ii] == 0])\n",
        "    X_one = np.array([np.array(X[ii,:]) for ii in range(n) if y[ii] == 1])\n",
        "    \n",
        "    plt.figure(figsize=(6,6))\n",
        "    plt.scatter(X_zero[:,0], X_zero[:, 1], color='red', marker='v')\n",
        "    plt.scatter(X_one[:,0], X_one[:, 1], color='blue', marker='*')\n",
        "    plt.show()"
      ]
    },
    {
      "cell_type": "code",
      "execution_count": null,
      "id": "d1c36def",
      "metadata": {
        "id": "d1c36def",
        "outputId": "ba62ae76-2a5b-4982-e820-54c20baefb5c"
      },
      "outputs": [
        {
          "data": {
            "image/png": "[encoded data removed]",
            "text/plain": [
              "<Figure size 432x432 with 1 Axes>"
            ]
          },
          "metadata": {
            "needs_background": "light"
          },
          "output_type": "display_data"
        },
        {
          "data": {
            "image/png": "[encoded data removed]",
            "text/plain": [
              "<Figure size 432x432 with 1 Axes>"
            ]
          },
          "metadata": {
            "needs_background": "light"
          },
          "output_type": "display_data"
        }
      ],
      "source": [
        "plot_data(X_train,y_train,n_train)\n",
        "plot_data(X_test,y_test,n_test)"
      ]
    },
    {
      "cell_type": "markdown",
      "id": "202513bf",
      "metadata": {
        "id": "202513bf"
      },
      "source": [
        "## Homework 3 Q2 & Q3\n"
      ]
    },
    {
      "cell_type": "markdown",
      "id": "4af58793",
      "metadata": {
        "id": "4af58793"
      },
      "source": [
        "### Logistic Regression\n"
      ]
    },
    {
      "cell_type": "code",
      "execution_count": null,
      "id": "3ed44aa9",
      "metadata": {
        "id": "3ed44aa9"
      },
      "outputs": [],
      "source": [
        "def sigmoid(z):\n",
        "    return 1/(1+np.exp(-z))"
      ]
    },
    {
      "cell_type": "code",
      "execution_count": null,
      "id": "3356853d",
      "metadata": {
        "id": "3356853d"
      },
      "outputs": [],
      "source": [
        "def Hypothesis(X, t):\n",
        "    z = np.matmul(X, t.T)\n",
        "    return sigmoid(z)"
      ]
    },
    {
      "cell_type": "code",
      "execution_count": null,
      "id": "fb1e9db3",
      "metadata": {
        "id": "fb1e9db3"
      },
      "outputs": [],
      "source": [
        "def neg_log_cost(theta, X, y):\n",
        "    \"\"\"\n",
        "    X is feature matrix\n",
        "    y is class label\n",
        "    theta is \"hyperplane\"\n",
        "    \"\"\"\n",
        "    #print(theta)\n",
        "    #theta = np.mat(theta).T\n",
        "    #print(theta.shape)\n",
        "    \n",
        "    cost_eval = 0\n",
        "    m, n = X.shape\n",
        "    #print(X.shape)\n",
        "    #print(m)\n",
        "    \n",
        "   # print(theta.shape)\n",
        "    \n",
        "    for ii in range(m):\n",
        "        xtmp = X[ii:ii+1, :]\n",
        "        htheta_xtmp = sigmoid(np.squeeze(xtmp).dot(np.squeeze(theta))) #h_{theta}(x)\n",
        "        #print(htheta_xtmp.shape)\n",
        "        cost_eval -= y[ii] * np.log(htheta_xtmp + np.finfo(float).eps) + (1 - y[ii]) * np.log(1 - htheta_xtmp + np.finfo(float).eps)\n",
        "    #print(cost_eval)\n",
        "    return 1/m * cost_eval \n"
      ]
    },
    {
      "cell_type": "code",
      "execution_count": null,
      "id": "9220f430",
      "metadata": {
        "id": "9220f430"
      },
      "outputs": [],
      "source": [
        "#theta_test = np.arange(0,100,1)\n",
        "theta_test = np.random.randn(d,1)\n",
        "#print(theta_test.shape)"
      ]
    },
    {
      "cell_type": "code",
      "execution_count": null,
      "id": "e076957d",
      "metadata": {
        "id": "e076957d"
      },
      "outputs": [],
      "source": [
        "def gradient_descent_log(X, y, theta_init, max_iter=1000, step_size = 1e-2):\n",
        "    theta_list = [theta_init]\n",
        "    m, n = X.shape\n",
        "    #print(X.shape)\n",
        "    for _ in range(max_iter):\n",
        "        grad = 0\n",
        "        for ii in range(m):\n",
        "            xtmp = X[ii:ii+1, :]\n",
        "           \n",
        "            htheta_xtmp = sigmoid(np.squeeze(xtmp).dot(np.squeeze(theta_init)))\n",
        "            grad -= (y[ii] - htheta_xtmp) * xtmp.T\n",
        "            \n",
        "        theta_new  = theta_init - step_size * grad / m\n",
        "        theta_init = theta_new\n",
        "        #theta -= step_size * grad / m\n",
        "        theta_list.append(theta_new) \n",
        "        \n",
        "    #print(np.mat(theta_list).shape)\n",
        "    return np.squeeze(np.array(theta_list))"
      ]
    },
    {
      "cell_type": "code",
      "execution_count": null,
      "id": "9d3fd061",
      "metadata": {
        "id": "9d3fd061"
      },
      "outputs": [],
      "source": [
        "def error_vals(X, y, theta_list):\n",
        "    max_iter = theta_list.shape[0]\n",
        "    err = []\n",
        "    for ii in range(max_iter):\n",
        "        err_tmp = neg_log_cost(theta_list[ii], X, y)\n",
        "        err.append(err_tmp)\n",
        "    return err"
      ]
    },
    {
      "cell_type": "code",
      "execution_count": null,
      "id": "1fa9f43a",
      "metadata": {
        "id": "1fa9f43a",
        "outputId": "1961eea7-c9c1-4274-e0a9-194f7828e105"
      },
      "outputs": [
        {
          "name": "stdout",
          "output_type": "stream",
          "text": [
            "(20, 100)\n",
            "(501, 100)\n"
          ]
        },
        {
          "data": {
            "image/png": "[encoded data removed]",
            "text/plain": [
              "<Figure size 432x288 with 1 Axes>"
            ]
          },
          "metadata": {
            "needs_background": "light"
          },
          "output_type": "display_data"
        }
      ],
      "source": [
        "max_iter = 500\n",
        "step_size = 1e-2\n",
        "#print(n)\n",
        "#theta_list = gradient_descent_log(X_train, y_train, np.random.randn(n,1), max_iter, step_size)\n",
        "theta_list = gradient_descent_log(X_train, y_train, theta_test, max_iter, step_size)\n",
        "print(X_train.shape)\n",
        "print(theta_list.shape)\n",
        "H= Hypothesis(X_train, theta_list)\n",
        "#print(H)\n",
        "\n",
        "cost_decay = error_vals(X_train, y_train, theta_list)\n",
        "cost_decay_test = error_vals(X_test, y_test, theta_list)\n",
        "\n",
        "plt.plot(cost_decay, 'r',cost_decay_test,'b')\n",
        "plt.yscale(\"log\")\n",
        "plt.xlabel('iterations')\n",
        "plt.ylabel('cost function')\n",
        "plt.show()"
      ]
    },
    {
      "cell_type": "markdown",
      "id": "415cf58e",
      "metadata": {
        "id": "415cf58e"
      },
      "source": [
        "### Gaussian Discriminant Analysis(GDA) model"
      ]
    },
    {
      "cell_type": "code",
      "execution_count": null,
      "id": "78077254",
      "metadata": {
        "id": "78077254"
      },
      "outputs": [],
      "source": [
        "def fit_gda(x_train, y_train):\n",
        "    m = y_train.shape[0] # Number of training example\n",
        "    #Reshapeing the training set\n",
        "    x_train = x_train.reshape(m, -1)\n",
        "    input_feature = x_train.shape[1] \n",
        "    # Number of input feature. In our case it's 100\n",
        "    #print(input_feature)\n",
        "    class_label = len(np.unique(y_train.reshape(-1))) \n",
        "    # Number of class. In our case its 2.\n",
        "    # Start everything with zero first.\n",
        "    # Mean for each class. Each row contains an individual class. And each of the class input is 4 dimenstional\n",
        "    \n",
        "    mu = np.zeros((class_label, input_feature))\n",
        "    # Each row will conatain the covariance matrix of each class.\n",
        "    # The covariance matrix is a square symettric matrix.\n",
        "    # It indicates how each of the input feature varies with each other.\n",
        "    sigma = np.diag(np.arange(100)+1)\n",
        "    \n",
        "    # Prior probability of each class.\n",
        "    # Its the measure of knowing the likelihood of any class before seeing the input data.\n",
        "    phi = np.zeros(class_label)\n",
        "    \n",
        "\n",
        "    for label in range(class_label):\n",
        "       \n",
        "        # Seperate all the training data for a single class\n",
        "        indices = (y_train == label)\n",
        "        \n",
        "        \n",
        "        indices= indices.reshape(-1)\n",
        "        phi[label] = float(np.sum(y_train)) / m\n",
        "        \n",
        "        mu[label] = np.mean(x_train[indices, :], axis=0)\n",
        "        # Instead of writting the equation we used numpy covariance function. \n",
        "        # sigma[label] = np.cov(x_train[indices, :], rowvar=0)\n",
        "    \n",
        "    return phi, mu, sigma"
      ]
    },
    {
      "cell_type": "code",
      "execution_count": null,
      "id": "c3df3095",
      "metadata": {
        "id": "c3df3095"
      },
      "outputs": [],
      "source": [
        "def multivariate_normal_test(mean, cov):\n",
        "    var_co = np.diag(np.arange(100)+1)\n",
        "    print(var_co)\n",
        "    \n",
        "    return np.random.multivariate_normal(mean, cov)"
      ]
    },
    {
      "cell_type": "code",
      "execution_count": null,
      "id": "cdc4c53a",
      "metadata": {
        "id": "cdc4c53a"
      },
      "outputs": [],
      "source": [
        "def error_vals_GDA(X_test, y_test, predic_val):\n",
        "    max_iter = np.shape(predic_val)\n",
        "    max_iter=int(max_iter[0])\n",
        "    err = []\n",
        "    \n",
        "    for ii in range(max_iter):\n",
        "        err_tmp = neg_log_cost(predic_val[ii], X_test, y_test)\n",
        "        err.append(err_tmp)\n",
        "    return err"
      ]
    },
    {
      "cell_type": "code",
      "execution_count": null,
      "id": "e9e64934",
      "metadata": {
        "id": "e9e64934"
      },
      "outputs": [],
      "source": [
        "def predict(x_tests, phi, mu, sigma):\n",
        "    # flatten the training data\n",
        "    x_tests = x_tests.reshape(x_tests.shape[0], -1)\n",
        "    #print('-----')\n",
        "    #print(x_tests)\n",
        "    #print('-----')\n",
        "    class_label = mu.shape[0] # Number of label we have in our case it's k = 2\n",
        "    scores = np.zeros((x_tests.shape[0], class_label))  # Initially we set the each class probability to zero.\n",
        "    predic_val=[]\n",
        "    \n",
        "    for label in range(class_label): # We will calculate the probability for each of the class.\n",
        "        # normal_distribution_prob.logpdf Will give us the log value of the PDF that we just mentioned above.\n",
        "        normal_distribution_prob = multivariate_normal(mean=mu[label], cov=sigma)\n",
        "        \n",
        "        # x_test can have multiple test data we will calculate the probability of each of the test data\n",
        "        for i, x_test in enumerate(x_tests):\n",
        "            scores[i, label] = np.log(phi[label]) + normal_distribution_prob.logpdf(x_test)\n",
        "            predic_data = np.argmax(scores[i, label])\n",
        "            predic_val.append(predic_data)\n",
        "            \n",
        "    #print(scores)\n",
        "    predictions = np.argmax(scores, axis=1)\n",
        "    return predictions, predic_val"
      ]
    },
    {
      "cell_type": "code",
      "execution_count": null,
      "id": "76e5b86c",
      "metadata": {
        "id": "76e5b86c",
        "outputId": "232891dc-7639-46b8-a076-36586d69f786"
      },
      "outputs": [
        {
          "name": "stdout",
          "output_type": "stream",
          "text": [
            "f1 score of our model:  1.0\n"
          ]
        }
      ],
      "source": [
        "phi, mu, sigma = fit_gda(X_train, y_train)\n",
        "\n",
        "\n",
        "y_predict, predic_val = predict(X_test, phi, mu, sigma)\n",
        "error= error_vals_GDA(X_test, y_test, predic_val)\n",
        "\n",
        "\n",
        "#print(error)\n",
        "\n",
        "score = f1_score(y_test, y_predict, average=\"weighted\")\n",
        "\n",
        "print(\"f1 score of our model: \", score)"
      ]
    },
    {
      "cell_type": "markdown",
      "id": "7821cd76",
      "metadata": {
        "id": "7821cd76"
      },
      "source": [
        "## Homework 3 Q4\n"
      ]
    },
    {
      "cell_type": "markdown",
      "id": "cd22175f",
      "metadata": {
        "id": "cd22175f"
      },
      "source": [
        "### Acutal Data testing\n"
      ]
    },
    {
      "cell_type": "code",
      "execution_count": null,
      "id": "4d613ee5",
      "metadata": {
        "id": "4d613ee5"
      },
      "outputs": [],
      "source": [
        "import numpy as np \n",
        "import matplotlib.pyplot as plt\n",
        "import gzip\n",
        "\n",
        "# Used for Confusion Matrix\n",
        "from sklearn import metrics\n",
        "#import seaborn as sns\n",
        "\n",
        "# Used for Loading MNIST\n",
        "from struct import unpack\n",
        "\n",
        "%matplotlib inline"
      ]
    },
    {
      "cell_type": "code",
      "execution_count": null,
      "id": "2600963b",
      "metadata": {
        "id": "2600963b"
      },
      "outputs": [],
      "source": [
        "#!wget http://yann.lecun.com/exdb/mnist/train-images-idx3-ubyte.gz\n",
        "#!wget http://yann.lecun.com/exdb/mnist/train-labels-idx1-ubyte.gz\n",
        "#!wget http://yann.lecun.com/exdb/mnist/t10k-images-idx3-ubyte.gz\n",
        "#!wget http://yann.lecun.com/exdb/mnist/t10k-labels-idx1-ubyte.gz"
      ]
    },
    {
      "cell_type": "code",
      "execution_count": null,
      "id": "5bcf7f45",
      "metadata": {
        "id": "5bcf7f45"
      },
      "outputs": [],
      "source": [
        "#!wget http://yann.lecun.com/exdb/mnist/train-images-idx3-ubyte.gz\n",
        "#!wget http://yann.lecun.com/exdb/mnist/train-labels-idx1-ubyte.gz"
      ]
    },
    {
      "cell_type": "code",
      "execution_count": null,
      "id": "1838deed",
      "metadata": {
        "id": "1838deed"
      },
      "outputs": [],
      "source": [
        "def loadmnist(imagefile, labelfile):\n",
        "\n",
        "    # Open the images with gzip in read binary mode\n",
        "    images = gzip.open(imagefile, 'rb')\n",
        "    labels = gzip.open(labelfile, 'rb')\n",
        "\n",
        "    # Get metadata for images\n",
        "    image_size = 28\n",
        "    num_images = 60000\n",
        "    num_images_test = 10000\n",
        "    \n",
        "    images.read(16)\n",
        "    \n",
        "    buf_train_image= images.read(image_size * image_size * num_images)\n",
        "    data_train_image = np.frombuffer(buf_train_image, dtype=np.uint8).astype(np.float32)\n",
        "    data_train_image = data_train_image.reshape(num_images, image_size, image_size, 1)\n",
        "    y = [] \n",
        "    \n",
        "    labels.read(8)\n",
        "    for i in range(num_images):   \n",
        "        buf = labels.read(1)\n",
        "        labels_tmp = np.frombuffer(buf, dtype=np.uint8).astype(np.int64)\n",
        "        y.append(labels_tmp[0] /9)\n",
        "    \n",
        "    y = np.array(y)\n",
        "    X = []\n",
        "    \n",
        "    for i in data_train_image:\n",
        "        xi = np.asarray(i).squeeze()\n",
        "        X.append(xi.flatten())\n",
        "    \n",
        "    X = np.array(X)\n",
        "    X = X / 255.0\n",
        "    \n",
        "    return X,y"
      ]
    },
    {
      "cell_type": "code",
      "execution_count": null,
      "id": "2dced2d6",
      "metadata": {
        "id": "2dced2d6"
      },
      "outputs": [],
      "source": [
        "def loadmnist_test(imagefile, labelfile):\n",
        "\n",
        "    # Open the images with gzip in read binary mode\n",
        "    images = gzip.open(imagefile, 'rb')\n",
        "    labels = gzip.open(labelfile, 'rb')\n",
        "\n",
        "    # Get metadata for images\n",
        "    images.read(4)  # skip the magic_number\n",
        "    number_of_images = images.read(4)\n",
        "    number_of_images = unpack('>I', number_of_images)[0]\n",
        "    rows = images.read(4)\n",
        "    rows = unpack('>I', rows)[0]\n",
        "    cols = images.read(4)\n",
        "    cols = unpack('>I', cols)[0]\n",
        "\n",
        "    # Get metadata for labels\n",
        "    labels.read(4)\n",
        "    N = labels.read(4)\n",
        "    N = unpack('>I', N)[0]\n",
        "\n",
        "    # Get data\n",
        "    x = np.zeros((N, rows*cols), dtype=np.uint8)  # Initialize numpy array\n",
        "    y = np.zeros(N, dtype=np.uint8)  # Initialize numpy array\n",
        "    for i in range(N):\n",
        "        for j in range(rows*cols):\n",
        "            tmp_pixel = images.read(1)  # Just a single byte\n",
        "            tmp_pixel = unpack('>B', tmp_pixel)[0]\n",
        "            x[i][j] = tmp_pixel\n",
        "        tmp_label = labels.read(1)\n",
        "        y[i] = unpack('>B', tmp_label)[0]\n",
        "\n",
        "    images.close()\n",
        "    labels.close()\n",
        "    return (x, y)"
      ]
    },
    {
      "cell_type": "code",
      "execution_count": null,
      "id": "2bbac0bb",
      "metadata": {
        "id": "2bbac0bb"
      },
      "outputs": [],
      "source": [
        "train_img_x, train_lbl_y = loadmnist_test('train-images-idx3-ubyte.gz', 'train-labels-idx1-ubyte.gz')\n",
        "test_img, test_lbl = loadmnist_test('t10k-images-idx3-ubyte.gz', 't10k-labels-idx1-ubyte.gz')"
      ]
    },
    {
      "cell_type": "code",
      "execution_count": null,
      "id": "d9a10e7d",
      "metadata": {
        "id": "d9a10e7d"
      },
      "outputs": [],
      "source": [
        "def define_the_theta(a,bias=1.0):\n",
        "    t = list(map(lambda x: 0.0, range(a)))\n",
        "    return np.array(t)\n",
        "\n",
        "theta_mnist = define_the_theta(len(train_img_x[0]))"
      ]
    },
    {
      "cell_type": "markdown",
      "id": "8dfb45c2",
      "metadata": {
        "id": "8dfb45c2"
      },
      "source": [
        "### (1) Logistic Regression"
      ]
    },
    {
      "cell_type": "code",
      "execution_count": null,
      "id": "b1ab2ab7",
      "metadata": {
        "id": "b1ab2ab7"
      },
      "outputs": [],
      "source": [
        "theta_list_mnist = gradient_descent_log(train_img_x, train_lbl_y, theta_mnist, max_iter, step_size)\n",
        "#print(X_train.shape)\n",
        "#print(theta_list.shape)\n",
        "#H= Hypothesis(X_train, theta_list)\n",
        "#print(H)\n",
        "\n",
        "cost_decay_mnist = error_vals(train_img_x, train_lbl_y, theta_list_mnist)\n",
        "#cost_decay_test = error_vals(X_test, y_test, theta_list_mnist)\n",
        "print(cost_decay_mnist)\n",
        "plt.plot(cost_decay_mnist, 'r')\n",
        "plt.yscale(\"log\")\n",
        "plt.xlabel('iterations')\n",
        "plt.ylabel('cost function')\n",
        "plt.show()"
      ]
    },
    {
      "cell_type": "markdown",
      "id": "d99506bd",
      "metadata": {
        "id": "d99506bd"
      },
      "source": [
        "def sigmoid(z):\n",
        "    return 1.0 / (1 + np.exp(-z))\n",
        "\n",
        "def Hypothesis(x, t):\n",
        "    z = np.matmul(x, t)\n",
        "    return sigmoid(z)\n",
        "\n",
        "hyp = Hypothesis(X,theta)\n",
        "#print(hyp)\n",
        "#print(hyp.shape)"
      ]
    },
    {
      "cell_type": "markdown",
      "id": "69a91873",
      "metadata": {
        "id": "69a91873"
      },
      "source": [
        "M = len(X)\n",
        "\n",
        "def cost_function(x, y, t,m):\n",
        "    h = Hypothesis(x, t)\n",
        "    left_cost = -y * np.log(h)\n",
        "    right_cost = (1.0-y) * np.log(1.0-h)\n",
        "    cost = left_cost - right_cost\n",
        "    cost = cost.sum() / m\n",
        "    return cost\n",
        "\n",
        "first_cost = cost_function(X,y,theta,M)\n",
        "print(first_cost)"
      ]
    },
    {
      "cell_type": "markdown",
      "id": "31aaf3e7",
      "metadata": {
        "id": "31aaf3e7"
      },
      "source": [
        "def update_weights(x, y, t, lr, m):\n",
        "    h = Hypothesis(x, t)\n",
        "    gradient = np.matmul(x.T,h - y)\n",
        "    gradient /= m\n",
        "    gradient *= lr\n",
        "    t -= gradient\n",
        "    return t\n",
        "    \n",
        "def train(x, y, t, lr, iters,m):\n",
        "    cost_history = []\n",
        "    for i in range(iters):\n",
        "        t = update_weights(x, y, t, lr,m)\n",
        "        cost = cost_function(x, y, t,m)\n",
        "        cost_history.append(cost)\n",
        "    return t, cost_history\n",
        "\n",
        "newt, history = train(X,y,theta,0.01, 1000,M)"
      ]
    }
  ],
  "metadata": {
    "kernelspec": {
      "display_name": "Python 3 (ipykernel)",
      "language": "python",
      "name": "python3"
    },
    "language_info": {
      "codemirror_mode": {
        "name": "ipython",
        "version": 3
      },
      "file_extension": ".py",
      "mimetype": "text/x-python",
      "name": "python",
      "nbconvert_exporter": "python",
      "pygments_lexer": "ipython3",
      "version": "3.9.7"
    },
    "colab": {
      "name": "EE425_Homework_v4.ipynb",
      "provenance": [],
      "include_colab_link": true
    }
  },
  "nbformat": 4,
  "nbformat_minor": 5
}